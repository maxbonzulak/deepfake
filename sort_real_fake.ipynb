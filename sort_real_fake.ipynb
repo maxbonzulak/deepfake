{
 "cells": [
  {
   "cell_type": "code",
   "execution_count": 8,
   "metadata": {},
   "outputs": [],
   "source": [
    "import json\n",
    "import os\n",
    "\n",
    "metadata = open('./train_sample_videos/metadata.json')\n",
    "metadata_dict = json.load(metadata)\n",
    "\n",
    "for counter, filename in enumerate(os.listdir('./train_sample_videos/')):\n",
    "    if filename.endswith(\".mp4\"): \n",
    "        if counter <= 350: #change this number\n",
    "            if metadata_dict[filename]['label'] == 'REAL':\n",
    "                print(filename,'to train real')\n",
    "                filepath_src = os.path.join('./train_sample_videos/', filename)\n",
    "                print(filepath_src)\n",
    "                filepath_dst = os.path.join('./deepfake/ACM_MM_2020/train/real/', filename)\n",
    "                print(filepath_dst)\n",
    "                os.rename(filepath_src, filepath_dst)\n",
    "            if metadata_dict[filename]['label'] == 'FAKE':\n",
    "                print(filename,'to train fake')\n",
    "                filepath_src = os.path.join('./train_sample_videos/', filename)\n",
    "                print(filepath_src)\n",
    "                filepath_dst = os.path.join('./deepfake/ACM_MM_2020/train/fake/', filename)\n",
    "                print(filepath_dst)\n",
    "                os.rename(filepath_src, filepath_dst)\n",
    "        else:\n",
    "            if metadata_dict[filename]['label'] == 'REAL':\n",
    "                print(filename,'to test real')\n",
    "                filepath_src = os.path.join('./train_sample_videos/', filename)\n",
    "                print(filepath_src)\n",
    "                filepath_dst = os.path.join('./deepfake/ACM_MM_2020/test/real/', filename)\n",
    "                print(filepath_dst)\n",
    "                os.rename(filepath_src, filepath_dst)\n",
    "            if metadata_dict[filename]['label'] == 'FAKE':\n",
    "                print(filename,'to test fake')\n",
    "                filepath_src = os.path.join('./train_sample_videos/', filename)\n",
    "                print(filepath_src)\n",
    "                filepath_dst = os.path.join('./deepfake/ACM_MM_2020/test/fake/', filename)\n",
    "                print(filepath_dst)\n",
    "                os.rename(filepath_src, filepath_dst)\n"
   ]
  },
  {
   "cell_type": "code",
   "execution_count": 2,
   "metadata": {},
   "outputs": [
    {
     "name": "stdout",
     "output_type": "stream",
     "text": [
      "70\n",
      "70\n",
      "305\n",
      "305\n",
      "7\n",
      "7\n",
      "18\n",
      "18\n"
     ]
    }
   ],
   "source": [
    "#This script was for re-allocating videos and their pre-processed data from the training set to the testing set\n",
    "\n",
    "import os\n",
    "import shutil\n",
    "\n",
    "print(len(os.listdir('./deepfake/ACM_MM_2020/train/real/')))\n",
    "print(len(os.listdir('./deepfake/ACM_MM_2020/train/pytmp/real/')))\n",
    "print(len(os.listdir('./deepfake/ACM_MM_2020/train/fake/')))\n",
    "print(len(os.listdir('./deepfake/ACM_MM_2020/train/pytmp/fake/')))\n",
    "print(len(os.listdir('./deepfake/ACM_MM_2020/test/real/')))\n",
    "print(len(os.listdir('./deepfake/ACM_MM_2020/test/pytmp/real/')))\n",
    "print(len(os.listdir('./deepfake/ACM_MM_2020/test/fake/')))\n",
    "print(len(os.listdir('./deepfake/ACM_MM_2020/test/pytmp/fake/')))\n",
    "\n",
    "# for c, file in enumerate(os.listdir('./deepfake/ACM_MM_2020/train/real/')):\n",
    "#     if c <= 6:\n",
    "#         src = ('./deepfake/ACM_MM_2020/train/real/'+file)\n",
    "#         dst = ('./deepfake/ACM_MM_2020/test/real/'+file)\n",
    "#         shutil.move(src,dst)\n",
    "#         src = ('./deepfake/ACM_MM_2020/train/pytmp/real/'+file[:10])\n",
    "#         dst = ('./deepfake/ACM_MM_2020/test/pytmp/real/'+file[:10])\n",
    "#         shutil.move(src,dst)\n",
    "\n",
    "# for c, file in enumerate(os.listdir('./deepfake/ACM_MM_2020/train/fake/')):\n",
    "#     if c <= 17:\n",
    "#         src = ('./deepfake/ACM_MM_2020/train/fake/'+file)\n",
    "#         dst = ('./deepfake/ACM_MM_2020/test/fake/'+file)\n",
    "#         shutil.move(src,dst)\n",
    "#         src = ('./deepfake/ACM_MM_2020/train/pytmp/fake/'+file[:10])\n",
    "#         dst = ('./deepfake/ACM_MM_2020/test/pytmp/fake/'+file[:10])\n",
    "#         shutil.move(src,dst)"
   ]
  },
  {
   "cell_type": "code",
   "execution_count": 1,
   "metadata": {},
   "outputs": [
    {
     "ename": "FileNotFoundError",
     "evalue": "[Errno 2] No such file or directory: './deepfake/ACM_MM_2020/test/pyavi'",
     "output_type": "error",
     "traceback": [
      "\u001b[0;31m---------------------------------------------------------------------------\u001b[0m",
      "\u001b[0;31mFileNotFoundError\u001b[0m                         Traceback (most recent call last)",
      "\u001b[0;32m<ipython-input-1-20848acdf7eb>\u001b[0m in \u001b[0;36m<module>\u001b[0;34m\u001b[0m\n\u001b[1;32m     21\u001b[0m \u001b[0;32mfor\u001b[0m \u001b[0mf\u001b[0m \u001b[0;32min\u001b[0m \u001b[0mfiles\u001b[0m\u001b[0;34m:\u001b[0m\u001b[0;34m\u001b[0m\u001b[0;34m\u001b[0m\u001b[0m\n\u001b[1;32m     22\u001b[0m     \u001b[0mos\u001b[0m\u001b[0;34m.\u001b[0m\u001b[0mremove\u001b[0m\u001b[0;34m(\u001b[0m\u001b[0mf\u001b[0m\u001b[0;34m)\u001b[0m\u001b[0;34m\u001b[0m\u001b[0;34m\u001b[0m\u001b[0m\n\u001b[0;32m---> 23\u001b[0;31m \u001b[0mshutil\u001b[0m\u001b[0;34m.\u001b[0m\u001b[0mrmtree\u001b[0m\u001b[0;34m(\u001b[0m\u001b[0;34m'./deepfake/ACM_MM_2020/test/pyavi'\u001b[0m\u001b[0;34m)\u001b[0m\u001b[0;34m\u001b[0m\u001b[0;34m\u001b[0m\u001b[0m\n\u001b[0m\u001b[1;32m     24\u001b[0m \u001b[0mshutil\u001b[0m\u001b[0;34m.\u001b[0m\u001b[0mrmtree\u001b[0m\u001b[0;34m(\u001b[0m\u001b[0;34m'./deepfake/ACM_MM_2020/test/pycrop'\u001b[0m\u001b[0;34m)\u001b[0m\u001b[0;34m\u001b[0m\u001b[0;34m\u001b[0m\u001b[0m\n\u001b[1;32m     25\u001b[0m \u001b[0mshutil\u001b[0m\u001b[0;34m.\u001b[0m\u001b[0mrmtree\u001b[0m\u001b[0;34m(\u001b[0m\u001b[0;34m'./deepfake/ACM_MM_2020/test/pyframes'\u001b[0m\u001b[0;34m)\u001b[0m\u001b[0;34m\u001b[0m\u001b[0;34m\u001b[0m\u001b[0m\n",
      "\u001b[0;32m/opt/tljh/user/lib/python3.7/shutil.py\u001b[0m in \u001b[0;36mrmtree\u001b[0;34m(path, ignore_errors, onerror)\u001b[0m\n\u001b[1;32m    483\u001b[0m             \u001b[0morig_st\u001b[0m \u001b[0;34m=\u001b[0m \u001b[0mos\u001b[0m\u001b[0;34m.\u001b[0m\u001b[0mlstat\u001b[0m\u001b[0;34m(\u001b[0m\u001b[0mpath\u001b[0m\u001b[0;34m)\u001b[0m\u001b[0;34m\u001b[0m\u001b[0;34m\u001b[0m\u001b[0m\n\u001b[1;32m    484\u001b[0m         \u001b[0;32mexcept\u001b[0m \u001b[0mException\u001b[0m\u001b[0;34m:\u001b[0m\u001b[0;34m\u001b[0m\u001b[0;34m\u001b[0m\u001b[0m\n\u001b[0;32m--> 485\u001b[0;31m             \u001b[0monerror\u001b[0m\u001b[0;34m(\u001b[0m\u001b[0mos\u001b[0m\u001b[0;34m.\u001b[0m\u001b[0mlstat\u001b[0m\u001b[0;34m,\u001b[0m \u001b[0mpath\u001b[0m\u001b[0;34m,\u001b[0m \u001b[0msys\u001b[0m\u001b[0;34m.\u001b[0m\u001b[0mexc_info\u001b[0m\u001b[0;34m(\u001b[0m\u001b[0;34m)\u001b[0m\u001b[0;34m)\u001b[0m\u001b[0;34m\u001b[0m\u001b[0;34m\u001b[0m\u001b[0m\n\u001b[0m\u001b[1;32m    486\u001b[0m             \u001b[0;32mreturn\u001b[0m\u001b[0;34m\u001b[0m\u001b[0;34m\u001b[0m\u001b[0m\n\u001b[1;32m    487\u001b[0m         \u001b[0;32mtry\u001b[0m\u001b[0;34m:\u001b[0m\u001b[0;34m\u001b[0m\u001b[0;34m\u001b[0m\u001b[0m\n",
      "\u001b[0;32m/opt/tljh/user/lib/python3.7/shutil.py\u001b[0m in \u001b[0;36mrmtree\u001b[0;34m(path, ignore_errors, onerror)\u001b[0m\n\u001b[1;32m    481\u001b[0m         \u001b[0;31m# lstat()/open()/fstat() trick.\u001b[0m\u001b[0;34m\u001b[0m\u001b[0;34m\u001b[0m\u001b[0;34m\u001b[0m\u001b[0m\n\u001b[1;32m    482\u001b[0m         \u001b[0;32mtry\u001b[0m\u001b[0;34m:\u001b[0m\u001b[0;34m\u001b[0m\u001b[0;34m\u001b[0m\u001b[0m\n\u001b[0;32m--> 483\u001b[0;31m             \u001b[0morig_st\u001b[0m \u001b[0;34m=\u001b[0m \u001b[0mos\u001b[0m\u001b[0;34m.\u001b[0m\u001b[0mlstat\u001b[0m\u001b[0;34m(\u001b[0m\u001b[0mpath\u001b[0m\u001b[0;34m)\u001b[0m\u001b[0;34m\u001b[0m\u001b[0;34m\u001b[0m\u001b[0m\n\u001b[0m\u001b[1;32m    484\u001b[0m         \u001b[0;32mexcept\u001b[0m \u001b[0mException\u001b[0m\u001b[0;34m:\u001b[0m\u001b[0;34m\u001b[0m\u001b[0;34m\u001b[0m\u001b[0m\n\u001b[1;32m    485\u001b[0m             \u001b[0monerror\u001b[0m\u001b[0;34m(\u001b[0m\u001b[0mos\u001b[0m\u001b[0;34m.\u001b[0m\u001b[0mlstat\u001b[0m\u001b[0;34m,\u001b[0m \u001b[0mpath\u001b[0m\u001b[0;34m,\u001b[0m \u001b[0msys\u001b[0m\u001b[0;34m.\u001b[0m\u001b[0mexc_info\u001b[0m\u001b[0;34m(\u001b[0m\u001b[0;34m)\u001b[0m\u001b[0;34m)\u001b[0m\u001b[0;34m\u001b[0m\u001b[0;34m\u001b[0m\u001b[0m\n",
      "\u001b[0;31mFileNotFoundError\u001b[0m: [Errno 2] No such file or directory: './deepfake/ACM_MM_2020/test/pyavi'"
     ]
    }
   ],
   "source": [
    "#WARNING!!!!\n",
    "#\n",
    "#This script deletes a bunch of stuff! I only wrote this for cleaning folders in between failed train attempts!!!\n",
    "\n",
    "import os\n",
    "import zipfile\n",
    "import glob\n",
    "import shutil\n",
    "\n",
    "\n",
    "files = glob.glob('./deepfake/ACM_MM_2020/train/real/*')\n",
    "for f in files:\n",
    "    os.remove(f)\n",
    "files = glob.glob('./deepfake/ACM_MM_2020/train/fake/*')\n",
    "for f in files:\n",
    "    os.remove(f)\n",
    "files = glob.glob('./deepfake/ACM_MM_2020/test/real/*')\n",
    "for f in files:\n",
    "    os.remove(f)\n",
    "files = glob.glob('./deepfake/ACM_MM_2020/test/fake/*')\n",
    "for f in files:\n",
    "    os.remove(f)\n",
    "shutil.rmtree('./deepfake/ACM_MM_2020/test/pyavi')\n",
    "shutil.rmtree('./deepfake/ACM_MM_2020/test/pycrop')\n",
    "shutil.rmtree('./deepfake/ACM_MM_2020/test/pyframes')\n",
    "shutil.rmtree('./deepfake/ACM_MM_2020/test/pytmp')\n",
    "shutil.rmtree('./deepfake/ACM_MM_2020/test/pywork')\n",
    "\n",
    "    \n",
    "print('removed')\n",
    "\n",
    "with zipfile.ZipFile('deepfake-detection-challenge.zip','r') as zip_ref:\n",
    "    zip_ref.extractall(\".\")\n",
    "    \n",
    "print('done')"
   ]
  },
  {
   "cell_type": "code",
   "execution_count": null,
   "metadata": {},
   "outputs": [],
   "source": []
  }
 ],
 "metadata": {
  "kernelspec": {
   "display_name": "Python 3",
   "language": "python",
   "name": "python3"
  },
  "language_info": {
   "codemirror_mode": {
    "name": "ipython",
    "version": 3
   },
   "file_extension": ".py",
   "mimetype": "text/x-python",
   "name": "python",
   "nbconvert_exporter": "python",
   "pygments_lexer": "ipython3",
   "version": "3.7.6"
  }
 },
 "nbformat": 4,
 "nbformat_minor": 4
}
